{
 "cells": [
  {
   "cell_type": "code",
   "execution_count": 69,
   "metadata": {
    "collapsed": true
   },
   "outputs": [],
   "source": [
    "import csv\n",
    "import json\n",
    "import numpy as np\n",
    "import pandas as pd\n",
    "import re\n",
    "\n",
    "from collections import Counter\n",
    "from io import StringIO"
   ]
  },
  {
   "cell_type": "code",
   "execution_count": 70,
   "metadata": {
    "collapsed": false
   },
   "outputs": [],
   "source": [
    "CENSUS_DATA_LOCATION = 'build/ACS_14_5YR_B01003_with_ann.csv'\n",
    "ELECTION_DATA_LOCATION = 'python/data.csv'\n",
    "OUTPUT_LOCATION = 'build/merged_data.csv'\n",
    "US_JSON_LOCATION = 'us.json'\n",
    "OUTPUT_US_JSON_LOCATION = 'public/data/us.json'\n",
    "\n",
    "df = pd.read_csv(ELECTION_DATA_LOCATION)\n",
    "\n",
    "lines = []\n",
    "\n",
    "with open(CENSUS_DATA_LOCATION, encoding='latin1') as f:\n",
    "    reader = csv.reader(f)\n",
    "    next(reader)\n",
    "    for line in reader:\n",
    "        lines.append([line[0], line[1], line[2], int(line[3])])\n",
    "\n",
    "pop_df = pd.DataFrame.from_records(lines, columns=['id', 'id2', 'name', 'total'])"
   ]
  },
  {
   "cell_type": "code",
   "execution_count": 71,
   "metadata": {
    "collapsed": false
   },
   "outputs": [
    {
     "data": {
      "text/html": [
       "<div>\n",
       "<table border=\"1\" class=\"dataframe\">\n",
       "  <thead>\n",
       "    <tr style=\"text-align: right;\">\n",
       "      <th></th>\n",
       "      <th>state</th>\n",
       "      <th>county</th>\n",
       "      <th>reporting</th>\n",
       "      <th>dem</th>\n",
       "      <th>gop</th>\n",
       "      <th>lib</th>\n",
       "      <th>grn</th>\n",
       "      <th>una</th>\n",
       "      <th>oth</th>\n",
       "    </tr>\n",
       "  </thead>\n",
       "  <tbody>\n",
       "    <tr>\n",
       "      <th>0</th>\n",
       "      <td>AL</td>\n",
       "      <td>Autauga</td>\n",
       "      <td>100%</td>\n",
       "      <td>5908</td>\n",
       "      <td>18110</td>\n",
       "      <td>538</td>\n",
       "      <td>105</td>\n",
       "      <td>0</td>\n",
       "      <td>0</td>\n",
       "    </tr>\n",
       "    <tr>\n",
       "      <th>1</th>\n",
       "      <td>AL</td>\n",
       "      <td>Baldwin</td>\n",
       "      <td>100%</td>\n",
       "      <td>18409</td>\n",
       "      <td>72780</td>\n",
       "      <td>2448</td>\n",
       "      <td>453</td>\n",
       "      <td>0</td>\n",
       "      <td>0</td>\n",
       "    </tr>\n",
       "    <tr>\n",
       "      <th>2</th>\n",
       "      <td>AL</td>\n",
       "      <td>Barbour</td>\n",
       "      <td>100%</td>\n",
       "      <td>4848</td>\n",
       "      <td>5431</td>\n",
       "      <td>93</td>\n",
       "      <td>18</td>\n",
       "      <td>0</td>\n",
       "      <td>0</td>\n",
       "    </tr>\n",
       "    <tr>\n",
       "      <th>3</th>\n",
       "      <td>AL</td>\n",
       "      <td>Bibb</td>\n",
       "      <td>100%</td>\n",
       "      <td>1874</td>\n",
       "      <td>6733</td>\n",
       "      <td>124</td>\n",
       "      <td>17</td>\n",
       "      <td>0</td>\n",
       "      <td>0</td>\n",
       "    </tr>\n",
       "    <tr>\n",
       "      <th>4</th>\n",
       "      <td>AL</td>\n",
       "      <td>Blount</td>\n",
       "      <td>100%</td>\n",
       "      <td>2150</td>\n",
       "      <td>22808</td>\n",
       "      <td>337</td>\n",
       "      <td>89</td>\n",
       "      <td>0</td>\n",
       "      <td>0</td>\n",
       "    </tr>\n",
       "  </tbody>\n",
       "</table>\n",
       "</div>"
      ],
      "text/plain": [
       "  state   county reporting    dem    gop   lib  grn  una  oth\n",
       "0    AL  Autauga      100%   5908  18110   538  105    0    0\n",
       "1    AL  Baldwin      100%  18409  72780  2448  453    0    0\n",
       "2    AL  Barbour      100%   4848   5431    93   18    0    0\n",
       "3    AL     Bibb      100%   1874   6733   124   17    0    0\n",
       "4    AL   Blount      100%   2150  22808   337   89    0    0"
      ]
     },
     "execution_count": 71,
     "metadata": {},
     "output_type": "execute_result"
    }
   ],
   "source": [
    "df.head()"
   ]
  },
  {
   "cell_type": "code",
   "execution_count": 72,
   "metadata": {
    "collapsed": false
   },
   "outputs": [
    {
     "data": {
      "text/html": [
       "<div>\n",
       "<table border=\"1\" class=\"dataframe\">\n",
       "  <thead>\n",
       "    <tr style=\"text-align: right;\">\n",
       "      <th></th>\n",
       "      <th>id</th>\n",
       "      <th>id2</th>\n",
       "      <th>name</th>\n",
       "      <th>total</th>\n",
       "    </tr>\n",
       "  </thead>\n",
       "  <tbody>\n",
       "    <tr>\n",
       "      <th>0</th>\n",
       "      <td>0500000US01001</td>\n",
       "      <td>01001</td>\n",
       "      <td>Autauga County, Alabama</td>\n",
       "      <td>55136</td>\n",
       "    </tr>\n",
       "    <tr>\n",
       "      <th>1</th>\n",
       "      <td>0500000US01003</td>\n",
       "      <td>01003</td>\n",
       "      <td>Baldwin County, Alabama</td>\n",
       "      <td>191205</td>\n",
       "    </tr>\n",
       "    <tr>\n",
       "      <th>2</th>\n",
       "      <td>0500000US01005</td>\n",
       "      <td>01005</td>\n",
       "      <td>Barbour County, Alabama</td>\n",
       "      <td>27119</td>\n",
       "    </tr>\n",
       "    <tr>\n",
       "      <th>3</th>\n",
       "      <td>0500000US01007</td>\n",
       "      <td>01007</td>\n",
       "      <td>Bibb County, Alabama</td>\n",
       "      <td>22653</td>\n",
       "    </tr>\n",
       "    <tr>\n",
       "      <th>4</th>\n",
       "      <td>0500000US01009</td>\n",
       "      <td>01009</td>\n",
       "      <td>Blount County, Alabama</td>\n",
       "      <td>57645</td>\n",
       "    </tr>\n",
       "  </tbody>\n",
       "</table>\n",
       "</div>"
      ],
      "text/plain": [
       "               id    id2                     name   total\n",
       "0  0500000US01001  01001  Autauga County, Alabama   55136\n",
       "1  0500000US01003  01003  Baldwin County, Alabama  191205\n",
       "2  0500000US01005  01005  Barbour County, Alabama   27119\n",
       "3  0500000US01007  01007     Bibb County, Alabama   22653\n",
       "4  0500000US01009  01009   Blount County, Alabama   57645"
      ]
     },
     "execution_count": 72,
     "metadata": {},
     "output_type": "execute_result"
    }
   ],
   "source": [
    "pop_df.head()"
   ]
  },
  {
   "cell_type": "code",
   "execution_count": 73,
   "metadata": {
    "collapsed": false
   },
   "outputs": [],
   "source": [
    "pop_df['county'] = [x[0] for x in pop_df.name.str.split(',')]\n",
    "pop_df['state'] = [x[1] for x in pop_df.name.str.split(',')]"
   ]
  },
  {
   "cell_type": "code",
   "execution_count": 74,
   "metadata": {
    "collapsed": false
   },
   "outputs": [],
   "source": [
    "STATES = ['Alabama', 'Alaska', 'Arizona', 'Arkansas', 'California', 'Colorado', 'Connecticut',\n",
    "'Delaware', 'District of Columbia', 'Florida', 'Georgia', 'Hawaii', 'Idaho', 'Illinois', 'Indiana', 'Iowa', 'Kansas',\n",
    "'Kentucky', 'Louisiana', 'Maine', 'Maryland', 'Massachusetts', 'Michigan', 'Minnesota',\n",
    "'Mississippi', 'Missouri', 'Montana', 'Nebraska', 'Nevada', 'New Hampshire', 'New Jersey',\n",
    "'New Mexico', 'New York', 'North Carolina', 'North Dakota', 'Ohio', 'Oklahoma', 'Oregon',\n",
    "'Pennsylvania', 'Rhode Island', 'South Carolina', 'South Dakota', 'Tennessee', 'Texas',\n",
    "'Utah', 'Vermont', 'Virginia', 'Washington', 'West Virginia', 'Wisconsin', 'Wyoming']\n",
    "\n",
    "STATE_ABBREVS = [\n",
    "  'AL', 'AK', 'AZ', 'AR', 'CA', 'CO', 'CT', 'DE', 'DC', 'FL',\n",
    "  'GA', 'HI', 'ID', 'IL', 'IN', 'IA', 'KS', 'KY', 'LA', 'ME',\n",
    "  'MD', 'MA', 'MI', 'MN', 'MS', 'MO', 'MT', 'NE', 'NV', 'NH',\n",
    "  'NJ', 'NM', 'NY', 'NC', 'ND', 'OH', 'OK', 'OR', 'PA', 'RI',\n",
    "  'SC', 'SD', 'TN', 'TX', 'UT', 'VT', 'VA', 'WA', 'WV', 'WI',\n",
    "  'WY']\n",
    "\n",
    "STATE_TO_ABBREV = dict(zip(STATES, STATE_ABBREVS))\n",
    "\n",
    "assert len(STATE_TO_ABBREV) == 51"
   ]
  },
  {
   "cell_type": "code",
   "execution_count": 75,
   "metadata": {
    "collapsed": false
   },
   "outputs": [],
   "source": [
    "pop_df['state'] = np.array(pop_df.name.apply(lambda x: x.split(',')[1]))\n",
    "pop_df['state'] =pop_df['state'].str.strip()\n",
    "pop_df['state_abbrev'] = pop_df['state'].apply(lambda x: STATE_TO_ABBREV[x])"
   ]
  },
  {
   "cell_type": "code",
   "execution_count": 76,
   "metadata": {
    "collapsed": true
   },
   "outputs": [],
   "source": [
    "# All found corrections\n",
    "df.loc[df['county'] == 'Bedford Co.', 'county'] = 'Bedford'\n",
    "pop_df.loc[pop_df['name'] == 'Doña Ana County, New Mexico', 'name'] = 'Dona Ana County, New Mexico'\n",
    "df.loc[df['county'] == 'Sainte Genevieve', 'county'] = 'Ste. Genevieve'"
   ]
  },
  {
   "cell_type": "code",
   "execution_count": 77,
   "metadata": {
    "collapsed": false
   },
   "outputs": [],
   "source": [
    "# Election data in AK only at state level. Combine....\n",
    "ak_population = pop_df[pop_df['state_abbrev'] == 'AK'].total.sum()\n",
    "ak_df = pd.DataFrame.from_records([(-1, -1, 'Alaska, Alaska', ak_population, 'Alaska', 'Alaska', 'AK')],\n",
    "                                  columns=('id', 'id2', 'name', 'total', 'county', 'state', 'state_abbrev'))\n",
    "pop_df = pop_df.loc[~(pop_df['state_abbrev'] == 'AK')]\n",
    "pop_df = pd.concat([pop_df, ak_df])"
   ]
  },
  {
   "cell_type": "code",
   "execution_count": 78,
   "metadata": {
    "collapsed": false
   },
   "outputs": [
    {
     "data": {
      "text/html": [
       "<div>\n",
       "<table border=\"1\" class=\"dataframe\">\n",
       "  <thead>\n",
       "    <tr style=\"text-align: right;\">\n",
       "      <th></th>\n",
       "      <th>id</th>\n",
       "      <th>id2</th>\n",
       "      <th>name</th>\n",
       "      <th>total</th>\n",
       "      <th>county</th>\n",
       "      <th>state</th>\n",
       "      <th>state_abbrev</th>\n",
       "    </tr>\n",
       "  </thead>\n",
       "  <tbody>\n",
       "    <tr>\n",
       "      <th>0</th>\n",
       "      <td>-1</td>\n",
       "      <td>-1</td>\n",
       "      <td>Alaska, Alaska</td>\n",
       "      <td>728300</td>\n",
       "      <td>Alaska</td>\n",
       "      <td>Alaska</td>\n",
       "      <td>AK</td>\n",
       "    </tr>\n",
       "  </tbody>\n",
       "</table>\n",
       "</div>"
      ],
      "text/plain": [
       "   id id2            name   total  county   state state_abbrev\n",
       "0  -1  -1  Alaska, Alaska  728300  Alaska  Alaska           AK"
      ]
     },
     "execution_count": 78,
     "metadata": {},
     "output_type": "execute_result"
    }
   ],
   "source": [
    "pop_df[pop_df['state_abbrev'] == 'AK']"
   ]
  },
  {
   "cell_type": "code",
   "execution_count": 79,
   "metadata": {
    "collapsed": false
   },
   "outputs": [],
   "source": [
    "# Then there are a bunch of special cases.....\n",
    "records_to_join_on = []\n",
    "\n",
    "def row_with_county(row, county):\n",
    "    records_to_join_on.append((row.id, row.id2, row.name, row.total,\n",
    "                               county, row.state, row.state_abbrev))\n",
    "\n",
    "for i, row in pop_df.iterrows():\n",
    "    name = row['name']\n",
    "    state = row.state_abbrev\n",
    "    if name.startswith('Baltimore') and state == 'MD':\n",
    "        if 'ity' in name:\n",
    "            row_with_county(row, 'Baltimore City')\n",
    "        else:\n",
    "            row_with_county(row, 'Baltimore County')\n",
    "    elif name.startswith('Carson City') and state == 'NV':\n",
    "        row_with_county(row, 'Carson City')\n",
    "    elif state == 'VA' and any(name.startswith(x) for x in ('Fairfax', 'Franklin', 'Richmond', 'Roanoke')):\n",
    "        if 'County' in name:\n",
    "            row_with_county(row, name.split(' ')[0] + ' Co.')\n",
    "        else:\n",
    "            row_with_county(row, name.split(' ')[0])\n",
    "    elif name.startswith('LaSalle'):\n",
    "        row_with_county(row, 'La Salle')\n",
    "    elif state == 'DC':\n",
    "        row_with_county(row, 'Washington')\n",
    "    elif state == 'MO' and name.startswith('St. Louis'):\n",
    "        if 'County' in name:\n",
    "            row_with_county(row, 'St. Louis Co.')\n",
    "        else:\n",
    "            row_with_county(row, 'St. Louis')\n",
    "    elif state == 'HI' and 'Kalawao' in name:\n",
    "        # This is some uninhabited place\n",
    "        pass\n",
    "    elif state == 'SD' and 'Shannon' in name:\n",
    "        # Name change in 2015\n",
    "        row_with_county(row, 'Oglala Lakota')\n",
    "    elif state == 'AK':\n",
    "        row_with_county(row, 'Alaska')\n",
    "    else:\n",
    "        match = re.match(r'^(.*) (?=County|Parish|city)', name)\n",
    "        if not match:\n",
    "            print(\"WTF\", row)\n",
    "        else:\n",
    "            row_with_county(row, match.groups()[0])"
   ]
  },
  {
   "cell_type": "code",
   "execution_count": 80,
   "metadata": {
    "collapsed": true
   },
   "outputs": [],
   "source": [
    "pop_df_fixed = pd.DataFrame.from_records(\n",
    "    records_to_join_on, columns=['id', 'id2', 'name', 'total', \n",
    "                                 'county', 'state', 'state_abbrev'])"
   ]
  },
  {
   "cell_type": "code",
   "execution_count": 81,
   "metadata": {
    "collapsed": false
   },
   "outputs": [],
   "source": [
    "merged_df = df.merge(pop_df_fixed, how='inner', \n",
    "         left_on=['county', 'state'],\n",
    "         right_on=['county', 'state_abbrev'])\n",
    "\n",
    "assert len(merged_df) == len(df)"
   ]
  },
  {
   "cell_type": "code",
   "execution_count": 82,
   "metadata": {
    "collapsed": false
   },
   "outputs": [],
   "source": [
    "merged_df.rename(columns={'state_y': 'full_state', 'state_x': 'state'}, inplace=True)\n",
    "del merged_df['state_abbrev']"
   ]
  },
  {
   "cell_type": "code",
   "execution_count": 83,
   "metadata": {
    "collapsed": false
   },
   "outputs": [
    {
     "ename": "ValueError",
     "evalue": "Unknown format code 'd' for object of type 'str'",
     "output_type": "error",
     "traceback": [
      "\u001b[0;31m---------------------------------------------------------------------------\u001b[0m",
      "\u001b[0;31mValueError\u001b[0m                                Traceback (most recent call last)",
      "\u001b[0;32m<ipython-input-83-f1c24ccc5895>\u001b[0m in \u001b[0;36m<module>\u001b[0;34m()\u001b[0m\n\u001b[0;32m----> 1\u001b[0;31m \u001b[0mmerged_df\u001b[0m\u001b[0;34m[\u001b[0m\u001b[0;34m'id2'\u001b[0m\u001b[0;34m]\u001b[0m \u001b[0;34m=\u001b[0m \u001b[0mnp\u001b[0m\u001b[0;34m.\u001b[0m\u001b[0marray\u001b[0m\u001b[0;34m(\u001b[0m\u001b[0;34m[\u001b[0m\u001b[0;34m'{:05d}'\u001b[0m\u001b[0;34m.\u001b[0m\u001b[0mformat\u001b[0m\u001b[0;34m(\u001b[0m\u001b[0mx\u001b[0m\u001b[0;34m)\u001b[0m \u001b[0;32mfor\u001b[0m \u001b[0mx\u001b[0m \u001b[0;32min\u001b[0m \u001b[0mmerged_df\u001b[0m\u001b[0;34m.\u001b[0m\u001b[0mid2\u001b[0m\u001b[0;34m]\u001b[0m\u001b[0;34m)\u001b[0m\u001b[0;34m\u001b[0m\u001b[0m\n\u001b[0m",
      "\u001b[0;32m<ipython-input-83-f1c24ccc5895>\u001b[0m in \u001b[0;36m<listcomp>\u001b[0;34m(.0)\u001b[0m\n\u001b[0;32m----> 1\u001b[0;31m \u001b[0mmerged_df\u001b[0m\u001b[0;34m[\u001b[0m\u001b[0;34m'id2'\u001b[0m\u001b[0;34m]\u001b[0m \u001b[0;34m=\u001b[0m \u001b[0mnp\u001b[0m\u001b[0;34m.\u001b[0m\u001b[0marray\u001b[0m\u001b[0;34m(\u001b[0m\u001b[0;34m[\u001b[0m\u001b[0;34m'{:05d}'\u001b[0m\u001b[0;34m.\u001b[0m\u001b[0mformat\u001b[0m\u001b[0;34m(\u001b[0m\u001b[0mx\u001b[0m\u001b[0;34m)\u001b[0m \u001b[0;32mfor\u001b[0m \u001b[0mx\u001b[0m \u001b[0;32min\u001b[0m \u001b[0mmerged_df\u001b[0m\u001b[0;34m.\u001b[0m\u001b[0mid2\u001b[0m\u001b[0;34m]\u001b[0m\u001b[0;34m)\u001b[0m\u001b[0;34m\u001b[0m\u001b[0m\n\u001b[0m",
      "\u001b[0;31mValueError\u001b[0m: Unknown format code 'd' for object of type 'str'"
     ]
    }
   ],
   "source": [
    "merged_df['id2'] = np.array(['{:05d}'.format(x) for x in merged_df.id2])"
   ]
  },
  {
   "cell_type": "code",
   "execution_count": 84,
   "metadata": {
    "collapsed": false
   },
   "outputs": [],
   "source": [
    "merged_df.to_csv(OUTPUT_LOCATION, index=False)"
   ]
  },
  {
   "cell_type": "code",
   "execution_count": 85,
   "metadata": {
    "collapsed": false
   },
   "outputs": [],
   "source": [
    "color = {}\n",
    "for state in 'AK, AL, AR, CT, DE, HI, IL, ME, MI, MN, MT, NE, NM, NV, SC, VA, WA'.split(', '):\n",
    "    color[state] = 0\n",
    "for state in 'AZ, DC, FL, KS, KY, MS, NC, ND, OR, PA, RI, TX, VT, WI, WY'.split(', '):\n",
    "    color[state] = 1\n",
    "for state in 'CA, CO, GA, ID, IN, LA, MA, MO, NJ, SD, WV'.split(', '):\n",
    "    color[state] = 2\n",
    "for state in 'IA, MD, NH, NY, OH, OK, TN, UT'.split(', '):\n",
    "    color[state] = 3\n",
    "\n",
    "id_to_properties = {int(row.id2): {'state': row.state,\n",
    "                                   'color': color[row.state],\n",
    "                                   'name': row.county, \n",
    "                                   'population': row.total,\n",
    "                                   'dem': row.dem,\n",
    "                                   'gop': row.gop, \n",
    "                                   'grn': row.grn,\n",
    "                                   'lib': row.lib, \n",
    "                                   'oth': row.oth}\n",
    "                   for _, row in merged_df.iterrows()}"
   ]
  },
  {
   "cell_type": "code",
   "execution_count": 86,
   "metadata": {
    "collapsed": false
   },
   "outputs": [],
   "source": [
    "with open(US_JSON_LOCATION, 'r') as f:\n",
    "    data = json.load(f)"
   ]
  },
  {
   "cell_type": "code",
   "execution_count": 87,
   "metadata": {
    "collapsed": true
   },
   "outputs": [],
   "source": [
    "for val in data['objects']['counties']['geometries']:\n",
    "    if val['id'] in id_to_properties:\n",
    "        val['properties'] = id_to_properties[val['id']]"
   ]
  },
  {
   "cell_type": "code",
   "execution_count": 88,
   "metadata": {
    "collapsed": false
   },
   "outputs": [],
   "source": [
    "with open(OUTPUT_US_JSON_LOCATION, 'wt') as f:\n",
    "    json.dump(data, f)"
   ]
  },
  {
   "cell_type": "code",
   "execution_count": 89,
   "metadata": {
    "collapsed": false
   },
   "outputs": [
    {
     "data": {
      "text/plain": [
       "{'arcs': [[[0, 1, 2]]],\n",
       " 'id': 53073,\n",
       " 'properties': {'color': 0,\n",
       "  'dem': 59402,\n",
       "  'gop': 40247,\n",
       "  'grn': 2954,\n",
       "  'lib': 4745,\n",
       "  'name': 'Whatcom',\n",
       "  'oth': 875,\n",
       "  'population': 204855,\n",
       "  'state': 'WA'},\n",
       " 'type': 'MultiPolygon'}"
      ]
     },
     "execution_count": 89,
     "metadata": {},
     "output_type": "execute_result"
    }
   ],
   "source": [
    "data['objects']['counties']['geometries'][0]"
   ]
  },
  {
   "cell_type": "code",
   "execution_count": null,
   "metadata": {
    "collapsed": true
   },
   "outputs": [],
   "source": []
  }
 ],
 "metadata": {
  "kernelspec": {
   "display_name": "Python 3",
   "language": "python",
   "name": "python3"
  },
  "language_info": {
   "codemirror_mode": {
    "name": "ipython",
    "version": 3
   },
   "file_extension": ".py",
   "mimetype": "text/x-python",
   "name": "python",
   "nbconvert_exporter": "python",
   "pygments_lexer": "ipython3",
   "version": "3.5.2"
  }
 },
 "nbformat": 4,
 "nbformat_minor": 0
}
