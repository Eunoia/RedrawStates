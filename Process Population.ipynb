{
 "cells": [
  {
   "cell_type": "code",
   "execution_count": 17,
   "metadata": {
    "collapsed": true
   },
   "outputs": [],
   "source": [
    "import copy\n",
    "import csv\n",
    "import json\n",
    "import numpy as np\n",
    "import pandas as pd\n",
    "import re\n",
    "\n",
    "from collections import Counter\n",
    "from io import StringIO"
   ]
  },
  {
   "cell_type": "code",
   "execution_count": 18,
   "metadata": {
    "collapsed": false
   },
   "outputs": [],
   "source": [
    "CENSUS_DATA_LOCATION = 'build/DEC_10_SF1_P1_with_ann.csv'\n",
    "ELECTION_DATA_LOCATION = 'python/data2012.csv'\n",
    "OUTPUT_LOCATION = 'build/merged_data.csv'\n",
    "US_JSON_LOCATION = 'us.json'\n",
    "OUTPUT_US_JSON_LOCATION = 'public/data/us2012.json'\n",
    "\n",
    "df = pd.read_csv(ELECTION_DATA_LOCATION)\n",
    "\n",
    "lines = []\n",
    "\n",
    "with open(CENSUS_DATA_LOCATION, encoding='latin1') as f:\n",
    "    reader = csv.reader(f)\n",
    "    next(reader)\n",
    "    for line in reader:\n",
    "        count = line[3]\n",
    "        count = re.match(r'(\\d+)(?=\\(r\\d+\\))?', count).groups()[0]\n",
    "        lines.append([line[0], line[1], line[2], int(count)])\n",
    "\n",
    "pop_df = pd.DataFrame.from_records(lines, columns=['id', 'id2', 'name', 'total'])"
   ]
  },
  {
   "cell_type": "code",
   "execution_count": 19,
   "metadata": {
    "collapsed": false
   },
   "outputs": [
    {
     "data": {
      "text/html": [
       "<div>\n",
       "<table border=\"1\" class=\"dataframe\">\n",
       "  <thead>\n",
       "    <tr style=\"text-align: right;\">\n",
       "      <th></th>\n",
       "      <th>state</th>\n",
       "      <th>county</th>\n",
       "      <th>reporting</th>\n",
       "      <th>dem</th>\n",
       "      <th>gop</th>\n",
       "      <th>lib</th>\n",
       "      <th>grn</th>\n",
       "      <th>una</th>\n",
       "      <th>oth</th>\n",
       "    </tr>\n",
       "  </thead>\n",
       "  <tbody>\n",
       "    <tr>\n",
       "      <th>0</th>\n",
       "      <td>AK</td>\n",
       "      <td>Alaska</td>\n",
       "      <td>100%</td>\n",
       "      <td>102138</td>\n",
       "      <td>136848</td>\n",
       "      <td>6131</td>\n",
       "      <td>0</td>\n",
       "      <td>0</td>\n",
       "      <td>2366.0</td>\n",
       "    </tr>\n",
       "    <tr>\n",
       "      <th>1</th>\n",
       "      <td>DC</td>\n",
       "      <td>Washington</td>\n",
       "      <td>222332</td>\n",
       "      <td>17337</td>\n",
       "      <td>1634</td>\n",
       "      <td>0</td>\n",
       "      <td>0</td>\n",
       "      <td>2045</td>\n",
       "      <td>NaN</td>\n",
       "    </tr>\n",
       "    <tr>\n",
       "      <th>2</th>\n",
       "      <td>AL</td>\n",
       "      <td>Autauga</td>\n",
       "      <td>100%</td>\n",
       "      <td>6354</td>\n",
       "      <td>17366</td>\n",
       "      <td>136</td>\n",
       "      <td>0</td>\n",
       "      <td>0</td>\n",
       "      <td>53.0</td>\n",
       "    </tr>\n",
       "    <tr>\n",
       "      <th>3</th>\n",
       "      <td>AL</td>\n",
       "      <td>Baldwin</td>\n",
       "      <td>100%</td>\n",
       "      <td>18329</td>\n",
       "      <td>65772</td>\n",
       "      <td>597</td>\n",
       "      <td>0</td>\n",
       "      <td>0</td>\n",
       "      <td>290.0</td>\n",
       "    </tr>\n",
       "    <tr>\n",
       "      <th>4</th>\n",
       "      <td>AL</td>\n",
       "      <td>Barbour</td>\n",
       "      <td>100%</td>\n",
       "      <td>5873</td>\n",
       "      <td>5539</td>\n",
       "      <td>32</td>\n",
       "      <td>0</td>\n",
       "      <td>0</td>\n",
       "      <td>15.0</td>\n",
       "    </tr>\n",
       "  </tbody>\n",
       "</table>\n",
       "</div>"
      ],
      "text/plain": [
       "  state      county reporting     dem     gop   lib  grn   una     oth\n",
       "0    AK      Alaska      100%  102138  136848  6131    0     0  2366.0\n",
       "1    DC  Washington    222332   17337    1634     0    0  2045     NaN\n",
       "2    AL     Autauga      100%    6354   17366   136    0     0    53.0\n",
       "3    AL     Baldwin      100%   18329   65772   597    0     0   290.0\n",
       "4    AL     Barbour      100%    5873    5539    32    0     0    15.0"
      ]
     },
     "execution_count": 19,
     "metadata": {},
     "output_type": "execute_result"
    }
   ],
   "source": [
    "df.head()"
   ]
  },
  {
   "cell_type": "code",
   "execution_count": 20,
   "metadata": {
    "collapsed": false
   },
   "outputs": [
    {
     "data": {
      "text/html": [
       "<div>\n",
       "<table border=\"1\" class=\"dataframe\">\n",
       "  <thead>\n",
       "    <tr style=\"text-align: right;\">\n",
       "      <th></th>\n",
       "      <th>id</th>\n",
       "      <th>id2</th>\n",
       "      <th>name</th>\n",
       "      <th>total</th>\n",
       "    </tr>\n",
       "  </thead>\n",
       "  <tbody>\n",
       "    <tr>\n",
       "      <th>0</th>\n",
       "      <td>0500000US01001</td>\n",
       "      <td>01001</td>\n",
       "      <td>Autauga County, Alabama</td>\n",
       "      <td>54571</td>\n",
       "    </tr>\n",
       "    <tr>\n",
       "      <th>1</th>\n",
       "      <td>0500000US01003</td>\n",
       "      <td>01003</td>\n",
       "      <td>Baldwin County, Alabama</td>\n",
       "      <td>182265</td>\n",
       "    </tr>\n",
       "    <tr>\n",
       "      <th>2</th>\n",
       "      <td>0500000US01005</td>\n",
       "      <td>01005</td>\n",
       "      <td>Barbour County, Alabama</td>\n",
       "      <td>27457</td>\n",
       "    </tr>\n",
       "    <tr>\n",
       "      <th>3</th>\n",
       "      <td>0500000US01007</td>\n",
       "      <td>01007</td>\n",
       "      <td>Bibb County, Alabama</td>\n",
       "      <td>22915</td>\n",
       "    </tr>\n",
       "    <tr>\n",
       "      <th>4</th>\n",
       "      <td>0500000US01009</td>\n",
       "      <td>01009</td>\n",
       "      <td>Blount County, Alabama</td>\n",
       "      <td>57322</td>\n",
       "    </tr>\n",
       "  </tbody>\n",
       "</table>\n",
       "</div>"
      ],
      "text/plain": [
       "               id    id2                     name   total\n",
       "0  0500000US01001  01001  Autauga County, Alabama   54571\n",
       "1  0500000US01003  01003  Baldwin County, Alabama  182265\n",
       "2  0500000US01005  01005  Barbour County, Alabama   27457\n",
       "3  0500000US01007  01007     Bibb County, Alabama   22915\n",
       "4  0500000US01009  01009   Blount County, Alabama   57322"
      ]
     },
     "execution_count": 20,
     "metadata": {},
     "output_type": "execute_result"
    }
   ],
   "source": [
    "pop_df.head()"
   ]
  },
  {
   "cell_type": "code",
   "execution_count": 21,
   "metadata": {
    "collapsed": false
   },
   "outputs": [],
   "source": [
    "pop_df['county'] = [x[0] for x in pop_df.name.str.split(',')]\n",
    "pop_df['state'] = [x[1] for x in pop_df.name.str.split(',')]"
   ]
  },
  {
   "cell_type": "code",
   "execution_count": 22,
   "metadata": {
    "collapsed": false
   },
   "outputs": [],
   "source": [
    "STATES = ['Alabama', 'Alaska', 'Arizona', 'Arkansas', 'California', 'Colorado', 'Connecticut',\n",
    "'Delaware', 'District of Columbia', 'Florida', 'Georgia', 'Hawaii', 'Idaho', 'Illinois', 'Indiana', 'Iowa', 'Kansas',\n",
    "'Kentucky', 'Louisiana', 'Maine', 'Maryland', 'Massachusetts', 'Michigan', 'Minnesota',\n",
    "'Mississippi', 'Missouri', 'Montana', 'Nebraska', 'Nevada', 'New Hampshire', 'New Jersey',\n",
    "'New Mexico', 'New York', 'North Carolina', 'North Dakota', 'Ohio', 'Oklahoma', 'Oregon',\n",
    "'Pennsylvania', 'Rhode Island', 'South Carolina', 'South Dakota', 'Tennessee', 'Texas',\n",
    "'Utah', 'Vermont', 'Virginia', 'Washington', 'West Virginia', 'Wisconsin', 'Wyoming']\n",
    "\n",
    "STATE_ABBREVS = [\n",
    "  'AL', 'AK', 'AZ', 'AR', 'CA', 'CO', 'CT', 'DE', 'DC', 'FL',\n",
    "  'GA', 'HI', 'ID', 'IL', 'IN', 'IA', 'KS', 'KY', 'LA', 'ME',\n",
    "  'MD', 'MA', 'MI', 'MN', 'MS', 'MO', 'MT', 'NE', 'NV', 'NH',\n",
    "  'NJ', 'NM', 'NY', 'NC', 'ND', 'OH', 'OK', 'OR', 'PA', 'RI',\n",
    "  'SC', 'SD', 'TN', 'TX', 'UT', 'VT', 'VA', 'WA', 'WV', 'WI',\n",
    "  'WY']\n",
    "\n",
    "STATE_TO_ABBREV = dict(zip(STATES, STATE_ABBREVS))\n",
    "\n",
    "assert len(STATE_TO_ABBREV) == 51"
   ]
  },
  {
   "cell_type": "code",
   "execution_count": 23,
   "metadata": {
    "collapsed": false
   },
   "outputs": [],
   "source": [
    "pop_df['state'] = np.array(pop_df.name.apply(lambda x: x.split(',')[1]))\n",
    "pop_df['state'] =pop_df['state'].str.strip()\n",
    "pop_df['state_abbrev'] = pop_df['state'].apply(lambda x: STATE_TO_ABBREV[x])"
   ]
  },
  {
   "cell_type": "code",
   "execution_count": 24,
   "metadata": {
    "collapsed": true
   },
   "outputs": [],
   "source": [
    "# All found corrections\n",
    "df.loc[df['county'] == 'Bedford Co.', 'county'] = 'Bedford'\n",
    "pop_df.loc[pop_df['name'] == 'Doña Ana County, New Mexico', 'name'] = 'Dona Ana County, New Mexico'\n",
    "df.loc[df['county'] == 'Sainte Genevieve', 'county'] = 'Ste. Genevieve'\n",
    "df = df.loc[df['county'] != 'Kalawao']"
   ]
  },
  {
   "cell_type": "code",
   "execution_count": 25,
   "metadata": {
    "collapsed": false
   },
   "outputs": [],
   "source": [
    "# Election data in AK only at state level. Combine....\n",
    "ak_population = pop_df[pop_df['state_abbrev'] == 'AK'].total.sum()\n",
    "ak_df = pd.DataFrame.from_records([(-1, -1, 'Alaska, Alaska', ak_population, 'Alaska', 'Alaska', 'AK')],\n",
    "                                  columns=('id', 'id2', 'name', 'total', 'county', 'state', 'state_abbrev'))\n",
    "pop_df = pop_df.loc[~(pop_df['state_abbrev'] == 'AK')]\n",
    "pop_df = pd.concat([pop_df, ak_df])"
   ]
  },
  {
   "cell_type": "code",
   "execution_count": 26,
   "metadata": {
    "collapsed": false
   },
   "outputs": [
    {
     "data": {
      "text/html": [
       "<div>\n",
       "<table border=\"1\" class=\"dataframe\">\n",
       "  <thead>\n",
       "    <tr style=\"text-align: right;\">\n",
       "      <th></th>\n",
       "      <th>id</th>\n",
       "      <th>id2</th>\n",
       "      <th>name</th>\n",
       "      <th>total</th>\n",
       "      <th>county</th>\n",
       "      <th>state</th>\n",
       "      <th>state_abbrev</th>\n",
       "    </tr>\n",
       "  </thead>\n",
       "  <tbody>\n",
       "    <tr>\n",
       "      <th>0</th>\n",
       "      <td>-1</td>\n",
       "      <td>-1</td>\n",
       "      <td>Alaska, Alaska</td>\n",
       "      <td>710231</td>\n",
       "      <td>Alaska</td>\n",
       "      <td>Alaska</td>\n",
       "      <td>AK</td>\n",
       "    </tr>\n",
       "  </tbody>\n",
       "</table>\n",
       "</div>"
      ],
      "text/plain": [
       "   id id2            name   total  county   state state_abbrev\n",
       "0  -1  -1  Alaska, Alaska  710231  Alaska  Alaska           AK"
      ]
     },
     "execution_count": 26,
     "metadata": {},
     "output_type": "execute_result"
    }
   ],
   "source": [
    "pop_df[pop_df['state_abbrev'] == 'AK']"
   ]
  },
  {
   "cell_type": "code",
   "execution_count": 27,
   "metadata": {
    "collapsed": false
   },
   "outputs": [],
   "source": [
    "# Then there are a bunch of special cases.....\n",
    "records_to_join_on = []\n",
    "\n",
    "def row_with_county(row, county):\n",
    "    records_to_join_on.append((row.id, row.id2, row.name, row.total,\n",
    "                               county, row.state, row.state_abbrev))\n",
    "\n",
    "# Fix Bedford County and City together (townhall only has results for one)    \n",
    "bedford_total = pop_df[pop_df.county.apply(lambda x: 'Bedford' in x) & (pop_df.state_abbrev == 'VA')].total.sum()\n",
    "pop_df = pop_df[~(pop_df.county.apply(lambda x: 'Bedford city' in x) & (pop_df.state_abbrev == 'VA'))]\n",
    "pop_df.ix[pop_df.county.apply(lambda x: 'Bedford County' in x) & (pop_df.state_abbrev == 'VA'), 'total'] = bedford_total\n",
    "\n",
    "for i, row in pop_df.iterrows():\n",
    "    name = row['name']\n",
    "    state = row.state_abbrev\n",
    "    if name.startswith('Baltimore') and state == 'MD':\n",
    "        if 'ity' in name:\n",
    "            row_with_county(row, 'Baltimore City')\n",
    "        else:\n",
    "            row_with_county(row, 'Baltimore County')\n",
    "    elif name.startswith('Carson City') and state == 'NV':\n",
    "        row_with_county(row, 'Carson City')\n",
    "    elif state == 'VA' and any(name.startswith(x) for x in ('Fairfax', 'Franklin', 'Richmond', 'Roanoke')):\n",
    "        if 'County' in name:\n",
    "            row_with_county(row, name.split(' ')[0] + ' Co.')\n",
    "        else:\n",
    "            row_with_county(row, name.split(' ')[0])\n",
    "    elif name.startswith('LaSalle'):\n",
    "        row_with_county(row, 'La Salle')\n",
    "    elif state == 'DC':\n",
    "        row_with_county(row, 'Washington')\n",
    "    elif state == 'MO' and name.startswith('St. Louis'):\n",
    "        if 'County' in name:\n",
    "            row_with_county(row, 'St. Louis Co.')\n",
    "        else:\n",
    "            row_with_county(row, 'St. Louis')\n",
    "    elif state == 'HI' and 'Kalawao' in name:\n",
    "        # This is some uninhabited place\n",
    "        pass\n",
    "    #elif state == 'SD' and 'Shannon' in name:\n",
    "    #    # Name change in 2015\n",
    "    #    row_with_county(row, 'Oglala Lakota')\n",
    "    elif state == 'AK':\n",
    "        row_with_county(row, 'Alaska')\n",
    "    else:\n",
    "        match = re.match(r'^(.*) (?=County|Parish|city)', name)\n",
    "        if not match:\n",
    "            print(\"WTF\", row)\n",
    "        else:\n",
    "            row_with_county(row, match.groups()[0])"
   ]
  },
  {
   "cell_type": "code",
   "execution_count": 28,
   "metadata": {
    "collapsed": true
   },
   "outputs": [],
   "source": [
    "pop_df_fixed = pd.DataFrame.from_records(\n",
    "    records_to_join_on, columns=['id', 'id2', 'name', 'total', \n",
    "                                 'county', 'state', 'state_abbrev'])"
   ]
  },
  {
   "cell_type": "code",
   "execution_count": 29,
   "metadata": {
    "collapsed": false
   },
   "outputs": [],
   "source": [
    "merged_df = df.merge(pop_df_fixed, how='inner', \n",
    "         left_on=['county', 'state'],\n",
    "         right_on=['county', 'state_abbrev'])\n",
    "\n",
    "assert len(merged_df) == len(df)"
   ]
  },
  {
   "cell_type": "code",
   "execution_count": 30,
   "metadata": {
    "collapsed": false
   },
   "outputs": [],
   "source": [
    "merged_df.rename(columns={'state_y': 'full_state', 'state_x': 'state'}, inplace=True)\n",
    "del merged_df['state_abbrev']"
   ]
  },
  {
   "cell_type": "code",
   "execution_count": 31,
   "metadata": {
    "collapsed": false
   },
   "outputs": [],
   "source": [
    "merged_df.to_csv(OUTPUT_LOCATION, index=False)"
   ]
  },
  {
   "cell_type": "code",
   "execution_count": 34,
   "metadata": {
    "collapsed": false
   },
   "outputs": [],
   "source": [
    "color = {}\n",
    "for state in 'AK, AL, AR, CT, DE, HI, IL, ME, MI, MN, MT, NE, NM, NV, SC, VA, WA'.split(', '):\n",
    "    color[state] = 0\n",
    "for state in 'AZ, DC, FL, KS, KY, MS, NC, ND, OR, PA, RI, TX, VT, WI, WY'.split(', '):\n",
    "    color[state] = 1\n",
    "for state in 'CA, CO, GA, ID, IN, LA, MA, MO, NJ, SD, WV'.split(', '):\n",
    "    color[state] = 2\n",
    "for state in 'IA, MD, NH, NY, OH, OK, TN, UT'.split(', '):\n",
    "    color[state] = 3\n",
    "\n",
    "id_to_properties = {int(row.id2): {'state': row.state,\n",
    "                                   'color': color[row.state],\n",
    "                                   'name': row.county, \n",
    "                                   'population': row.total,\n",
    "                                   'dem': row.dem if np.isfinite(row.dem) else 0,\n",
    "                                   'gop': row.gop if np.isfinite(row.gop) else 0, \n",
    "                                   'grn': row.grn if np.isfinite(row.grn) else 0,\n",
    "                                   'lib': row.lib if np.isfinite(row.lib) else 0,\n",
    "                                   'una': row.una if np.isfinite(row.una) else 0,\n",
    "                                   'oth': row.oth if np.isfinite(row.oth) else 0}\n",
    "                   for _, row in merged_df.iterrows()}"
   ]
  },
  {
   "cell_type": "code",
   "execution_count": 35,
   "metadata": {
    "collapsed": false
   },
   "outputs": [],
   "source": [
    "with open(US_JSON_LOCATION, 'r') as f:\n",
    "    data = json.load(f)\n",
    "    \n",
    "data['objects']['counties']['geometries'] = [x for x in data['objects']['counties']['geometries'] if x['id'] < 60000]\n",
    "data['objects']['counties']['geometries'] = [x for x in data['objects']['counties']['geometries'] if x['id'] // 1000 != 2]"
   ]
  },
  {
   "cell_type": "code",
   "execution_count": 36,
   "metadata": {
    "collapsed": true
   },
   "outputs": [],
   "source": [
    "for val in data['objects']['counties']['geometries']:\n",
    "    if val['id'] in id_to_properties:\n",
    "        val['properties'] = id_to_properties[val['id']]"
   ]
  },
  {
   "cell_type": "code",
   "execution_count": 37,
   "metadata": {
    "collapsed": false
   },
   "outputs": [
    {
     "data": {
      "text/plain": [
       "{'arcs': [[[0, 1, 2]]],\n",
       " 'id': 53073,\n",
       " 'properties': {'color': 0,\n",
       "  'dem': 49743,\n",
       "  'gop': 38764,\n",
       "  'grn': 0,\n",
       "  'lib': 1156,\n",
       "  'name': 'Whatcom',\n",
       "  'oth': 1495.0,\n",
       "  'population': 201140,\n",
       "  'state': 'WA',\n",
       "  'una': 0},\n",
       " 'type': 'MultiPolygon'}"
      ]
     },
     "execution_count": 37,
     "metadata": {},
     "output_type": "execute_result"
    }
   ],
   "source": [
    "data['objects']['counties']['geometries'][0]"
   ]
  },
  {
   "cell_type": "code",
   "execution_count": 38,
   "metadata": {
    "collapsed": false
   },
   "outputs": [],
   "source": [
    "# Fix AK\n",
    "ak_geometry = copy.deepcopy([x for x in data['objects']['states']['geometries'] if x['id'] == 2][0])"
   ]
  },
  {
   "cell_type": "code",
   "execution_count": 39,
   "metadata": {
    "collapsed": false
   },
   "outputs": [],
   "source": [
    "ak_row = merged_df[merged_df.state == 'AK'].iloc[0]\n",
    "\n",
    "ak_geometry['properties'] = {\n",
    "    'color': 0,\n",
    "    'dem': int(ak_row.dem),\n",
    "    'gop': int(ak_row.gop),\n",
    "    'grn': int(ak_row.grn),\n",
    "    'lib': int(ak_row.lib),\n",
    "    'una': int(ak_row.una),\n",
    "    'name': 'Alaska',\n",
    "    'oth': int(ak_row.oth),\n",
    "    'population': int(ak_row.total),\n",
    "    'state': 'AK'\n",
    "}\n",
    "\n",
    "ak_geometry['id'] = 2001"
   ]
  },
  {
   "cell_type": "code",
   "execution_count": 40,
   "metadata": {
    "collapsed": false
   },
   "outputs": [],
   "source": [
    "data['objects']['counties']['geometries'].append(ak_geometry)\n",
    "data['objects']['counties']['geometries'].sort(key=lambda x: x['id'])"
   ]
  },
  {
   "cell_type": "code",
   "execution_count": 41,
   "metadata": {
    "collapsed": false
   },
   "outputs": [],
   "source": [
    "with open(OUTPUT_US_JSON_LOCATION, 'wt') as f:\n",
    "    json.dump(data, f)"
   ]
  },
  {
   "cell_type": "code",
   "execution_count": null,
   "metadata": {
    "collapsed": true
   },
   "outputs": [],
   "source": []
  }
 ],
 "metadata": {
  "kernelspec": {
   "display_name": "Python 3",
   "language": "python",
   "name": "python3"
  },
  "language_info": {
   "codemirror_mode": {
    "name": "ipython",
    "version": 3
   },
   "file_extension": ".py",
   "mimetype": "text/x-python",
   "name": "python",
   "nbconvert_exporter": "python",
   "pygments_lexer": "ipython3",
   "version": "3.5.2"
  }
 },
 "nbformat": 4,
 "nbformat_minor": 0
}
